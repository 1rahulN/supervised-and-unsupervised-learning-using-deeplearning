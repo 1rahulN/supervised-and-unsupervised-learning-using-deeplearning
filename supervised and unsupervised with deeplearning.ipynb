{
 "cells": [
  {
   "cell_type": "markdown",
   "id": "b0cc9e34",
   "metadata": {},
   "source": [
    "# Supervised Machine Learning using deeplearning\n",
    " Supervised machine learning is the machine learning technique in which the neural network learns to make predictions or classify data based on the labeled datasets. Here we input both input features along with the target variables. the neural network learns to make predictions based on the cost or error that comes from the difference between the predicted and the actual target, this process is known as backpropagation.  Deep learning algorithms like Convolutional neural networks, Recurrent neural networks are used for many supervised tasks like image classifications and recognization, sentiment analysis, language translations, etc."
   ]
  },
  {
   "cell_type": "raw",
   "id": "157adbba",
   "metadata": {},
   "source": [
    "hands-on example of supervised learning using PyTorch. We'll create a simple neural network to perform a binary classification task on the famous Iris dataset. We'll classify whether a given Iris flower is of the species \"Setosa\" "
   ]
  },
  {
   "cell_type": "code",
   "execution_count": 1,
   "id": "773768db",
   "metadata": {},
   "outputs": [],
   "source": [
    "#  Import Libraries"
   ]
  },
  {
   "cell_type": "code",
   "execution_count": 2,
   "id": "61e35a90",
   "metadata": {},
   "outputs": [],
   "source": [
    "import torch as th\n",
    "import torch.nn as nn\n",
    "import torch.optim as optim\n",
    "from torch.utils.data import DataLoader, TensorDataset\n",
    "from sklearn.datasets import load_iris\n",
    "from sklearn.model_selection import train_test_split\n",
    "from sklearn.preprocessing import StandardScaler\n",
    "import matplotlib.pyplot as plt"
   ]
  },
  {
   "cell_type": "code",
   "execution_count": 3,
   "id": "3bc14b20",
   "metadata": {},
   "outputs": [],
   "source": [
    "# Load and Prepare the Data"
   ]
  },
  {
   "cell_type": "code",
   "execution_count": 4,
   "id": "9fc9fa4e",
   "metadata": {},
   "outputs": [],
   "source": [
    "# Load the Iris dataset\n",
    "iris = load_iris()\n",
    "X = iris.data\n",
    "# all elements of target should be between 0 and 1\n",
    "y = (iris.target == 0).astype(int)  # Binary classification: Setosa vs. not Setosa\n",
    "\n",
    "# Split the data into training and test sets\n",
    "X_train, X_test, y_train, y_test = train_test_split(X, y, test_size=0.2, random_state=42)\n",
    "\n",
    "# Standardize the features\n",
    "scaler = StandardScaler()\n",
    "X_train = scaler.fit_transform(X_train)\n",
    "X_test = scaler.transform(X_test)\n",
    "\n",
    "# Convert data to PyTorch tensors\n",
    "X_train_tensor = th.tensor(X_train, dtype=th.float32)\n",
    "y_train_tensor = th.tensor(y_train, dtype=th.float32).unsqueeze(1)\n",
    "X_test_tensor = th.tensor(X_test, dtype=th.float32)\n",
    "y_test_tensor = th.tensor(y_test, dtype=th.float32).unsqueeze(1)\n",
    "\n",
    "# Create DataLoader for training\n",
    "train_dataset = TensorDataset(X_train_tensor, y_train_tensor)\n",
    "train_loader = DataLoader(train_dataset, batch_size=16, shuffle=True)"
   ]
  },
  {
   "cell_type": "code",
   "execution_count": 5,
   "id": "725b0bb7",
   "metadata": {},
   "outputs": [],
   "source": [
    "# Define the Neural Network Model"
   ]
  },
  {
   "cell_type": "code",
   "execution_count": 6,
   "id": "5fc19bb9",
   "metadata": {},
   "outputs": [
    {
     "name": "stdout",
     "output_type": "stream",
     "text": [
      "SimpleNN(\n",
      "  (fc1): Linear(in_features=4, out_features=10, bias=True)\n",
      "  (fc2): Linear(in_features=10, out_features=1, bias=True)\n",
      "  (sigmoid): Sigmoid()\n",
      ")\n"
     ]
    }
   ],
   "source": [
    "class SimpleNN(nn.Module):\n",
    "    def __init__(self):\n",
    "        super(SimpleNN, self).__init__()\n",
    "        self.fc1 = nn.Linear(4, 10)\n",
    "        self.fc2 = nn.Linear(10, 1)\n",
    "        self.sigmoid = nn.Sigmoid()\n",
    "    \n",
    "    def forward(self, x):\n",
    "        x = th.relu(self.fc1(x))\n",
    "        x = self.fc2(x)\n",
    "        x = self.sigmoid(x)\n",
    "        return x\n",
    "\n",
    "model = SimpleNN()\n",
    "print(model)"
   ]
  },
  {
   "cell_type": "code",
   "execution_count": 7,
   "id": "8b952c1d",
   "metadata": {},
   "outputs": [],
   "source": [
    "# Define Loss Function and Optimizer"
   ]
  },
  {
   "cell_type": "code",
   "execution_count": 8,
   "id": "042b5239",
   "metadata": {},
   "outputs": [],
   "source": [
    "criterion = nn.BCELoss()  # Binary Cross Entropy Loss\n",
    "optimizer = optim.Adam(model.parameters(), lr=0.01)"
   ]
  },
  {
   "cell_type": "code",
   "execution_count": 9,
   "id": "b9a287bb",
   "metadata": {},
   "outputs": [],
   "source": [
    "# Train the Model"
   ]
  },
  {
   "cell_type": "code",
   "execution_count": 10,
   "id": "9b239bbf",
   "metadata": {},
   "outputs": [
    {
     "name": "stdout",
     "output_type": "stream",
     "text": [
      "Epoch [10/50], Loss: 0.0139\n",
      "Epoch [20/50], Loss: 0.0043\n",
      "Epoch [30/50], Loss: 0.0020\n",
      "Epoch [40/50], Loss: 0.0013\n",
      "Epoch [50/50], Loss: 0.0009\n"
     ]
    }
   ],
   "source": [
    "loss_values = []  # List to store loss values for each epoch\n",
    "\n",
    "num_epochs = 50\n",
    "for epoch in range(num_epochs):\n",
    "    epoch_loss = 0\n",
    "    for inputs, labels in train_loader:\n",
    "        # Zero the parameter gradients\n",
    "        optimizer.zero_grad()\n",
    "        \n",
    "        # Forward pass\n",
    "        yp = model(inputs)\n",
    "        loss = criterion(yp, labels)\n",
    "        \n",
    "        # Backward pass and optimization\n",
    "        loss.backward()\n",
    "        optimizer.step()\n",
    "        \n",
    "        # Accumulate loss for this batch\n",
    "        epoch_loss += loss.item()\n",
    "    \n",
    "    # Calculate average loss for this epoch and store it\n",
    "    avg_loss = epoch_loss / len(train_loader)\n",
    "    loss_values.append(avg_loss)\n",
    "    \n",
    "    if (epoch+1) % 10 == 0:\n",
    "        print(f'Epoch [{epoch+1}/{num_epochs}], Loss: {avg_loss:.4f}')"
   ]
  },
  {
   "cell_type": "code",
   "execution_count": 11,
   "id": "39501904",
   "metadata": {},
   "outputs": [],
   "source": [
    "# Evaluate the Model"
   ]
  },
  {
   "cell_type": "code",
   "execution_count": 12,
   "id": "123b48cc",
   "metadata": {},
   "outputs": [
    {
     "name": "stdout",
     "output_type": "stream",
     "text": [
      "Accuracy: 100.00%\n"
     ]
    }
   ],
   "source": [
    "model.eval()  # Set the model to evaluation mode\n",
    "with th.no_grad():\n",
    "    y_pred = model(X_test_tensor)\n",
    "    y_pred_class = (y_pred > 0.5).float()\n",
    "    accuracy = (y_pred_class.eq(y_test_tensor).sum() / float(y_test_tensor.shape[0])).item()\n",
    "    print(f'Accuracy: {accuracy * 100:.2f}%')"
   ]
  },
  {
   "cell_type": "code",
   "execution_count": 73,
   "id": "c031fa8a",
   "metadata": {},
   "outputs": [
    {
     "data": {
      "image/png": "[encoded data removed]",
      "text/plain": [
       "<Figure size 640x480 with 1 Axes>"
      ]
     },
     "metadata": {},
     "output_type": "display_data"
    }
   ],
   "source": [
    "# Plot the loss curve\n",
    "plt.plot(range(num_epochs), loss_values)\n",
    "plt.xlabel('Epoch')\n",
    "plt.ylabel('Loss')\n",
    "plt.title('Loss Curve')\n",
    "plt.show()"
   ]
  },
  {
   "cell_type": "raw",
   "id": "c346ab0a",
   "metadata": {},
   "source": [
    "This example demonstrates how to use PyTorch for supervised learning. We built a simple neural network, trained it on the Iris dataset, and evaluated its performance. Adjust the number of epochs, learning rate, and model architecture for better results."
   ]
  },
  {
   "cell_type": "markdown",
   "id": "744a0970",
   "metadata": {},
   "source": [
    "# Unsupervised Machine Learning using deeplearning\n",
    "Unsupervised machine learning is the machine learning technique in which the neural network learns to discover the patterns or to cluster the dataset based on unlabeled datasets. Here there are no target variables. while the machine has to self-determined the hidden patterns or relationships within the datasets. Deep learning algorithms like autoencoders and generative models are used for unsupervised tasks like clustering, dimensionality reduction, and anomaly detection."
   ]
  },
  {
   "cell_type": "code",
   "execution_count": 13,
   "id": "17af859c",
   "metadata": {},
   "outputs": [],
   "source": [
    "# Import Required Libraries"
   ]
  },
  {
   "cell_type": "code",
   "execution_count": 14,
   "id": "a223d2cb",
   "metadata": {},
   "outputs": [],
   "source": [
    "import torch as th\n",
    "import torch.nn as nn\n",
    "import torch.optim as op\n",
    "import torchvision.datasets as dsets\n",
    "import torchvision.transforms as tf"
   ]
  },
  {
   "cell_type": "code",
   "execution_count": 15,
   "id": "15127e15",
   "metadata": {},
   "outputs": [],
   "source": [
    "import matplotlib.pyplot as plt\n",
    "import numpy as np"
   ]
  },
  {
   "cell_type": "code",
   "execution_count": 77,
   "id": "a5ed8d74",
   "metadata": {},
   "outputs": [],
   "source": [
    "# Load the MNIST Dataset"
   ]
  },
  {
   "cell_type": "code",
   "execution_count": 16,
   "id": "f0366798",
   "metadata": {},
   "outputs": [],
   "source": [
    "# Load training and test datasets\n",
    "\n",
    "train_dset=dsets.MNIST(root=\"./data\",train=True,transform=tf.ToTensor(),download=True)\n",
    "\n",
    "test_dset=dsets.MNIST(root=\"./data\",train=False,transform=tf.ToTensor())"
   ]
  },
  {
   "cell_type": "code",
   "execution_count": 17,
   "id": "f5e33b4b",
   "metadata": {},
   "outputs": [],
   "source": [
    "train_loader=th.utils.data.DataLoader(dataset=train_dset,batch_size=64,shuffle=True)\n",
    "test_loader=th.utils.data.DataLoader(dataset=test_dset,batch_size=64,shuffle=False)"
   ]
  },
  {
   "cell_type": "code",
   "execution_count": 18,
   "id": "a62f6b0f",
   "metadata": {},
   "outputs": [],
   "source": [
    "# Define the Autoencoder Model:"
   ]
  },
  {
   "cell_type": "code",
   "execution_count": 19,
   "id": "379c6cc3",
   "metadata": {},
   "outputs": [
    {
     "name": "stdout",
     "output_type": "stream",
     "text": [
      "Autoencoder(\n",
      "  (encoder): Sequential(\n",
      "    (0): Linear(in_features=784, out_features=128, bias=True)\n",
      "    (1): ReLU(inplace=True)\n",
      "    (2): Linear(in_features=128, out_features=64, bias=True)\n",
      "    (3): ReLU(inplace=True)\n",
      "    (4): Linear(in_features=64, out_features=12, bias=True)\n",
      "    (5): ReLU(inplace=True)\n",
      "    (6): Linear(in_features=12, out_features=3, bias=True)\n",
      "  )\n",
      "  (decoder): Sequential(\n",
      "    (0): Linear(in_features=3, out_features=12, bias=True)\n",
      "    (1): ReLU(inplace=True)\n",
      "    (2): Linear(in_features=12, out_features=64, bias=True)\n",
      "    (3): ReLU(inplace=True)\n",
      "    (4): Linear(in_features=64, out_features=128, bias=True)\n",
      "    (5): ReLU(inplace=True)\n",
      "    (6): Linear(in_features=128, out_features=784, bias=True)\n",
      "    (7): Tanh()\n",
      "  )\n",
      ")\n"
     ]
    }
   ],
   "source": [
    "class Autoencoder(nn.Module):\n",
    "    def __init__(self):\n",
    "        super(Autoencoder, self).__init__()\n",
    "        # Encoder\n",
    "        self.encoder = nn.Sequential(\n",
    "            nn.Linear(28 * 28, 128),\n",
    "            nn.ReLU(True),\n",
    "            nn.Linear(128, 64),\n",
    "            nn.ReLU(True),\n",
    "            nn.Linear(64, 12),\n",
    "            nn.ReLU(True),\n",
    "            nn.Linear(12, 3)  # The bottleneck layer\n",
    "        )\n",
    "        # Decoder\n",
    "        self.decoder = nn.Sequential(\n",
    "            nn.Linear(3, 12),\n",
    "            nn.ReLU(True),\n",
    "            nn.Linear(12, 64),\n",
    "            nn.ReLU(True),\n",
    "            nn.Linear(64, 128),\n",
    "            nn.ReLU(True),\n",
    "            nn.Linear(128, 28 * 28),\n",
    "            nn.Tanh()\n",
    "        )\n",
    "\n",
    "    def forward(self, x):\n",
    "        x = self.encoder(x)\n",
    "        x = self.decoder(x)\n",
    "        return x\n",
    "model=Autoencoder()\n",
    "print(model)"
   ]
  },
  {
   "cell_type": "code",
   "execution_count": 20,
   "id": "d21c475a",
   "metadata": {},
   "outputs": [],
   "source": [
    "# Instantiate the Model, Loss Function, and Optimizer:"
   ]
  },
  {
   "cell_type": "code",
   "execution_count": 21,
   "id": "ab84ed3e",
   "metadata": {},
   "outputs": [],
   "source": [
    "criterion = nn.MSELoss()\n",
    "optimizer = optim.SGD(model.parameters(), lr=0.001)"
   ]
  },
  {
   "cell_type": "code",
   "execution_count": 22,
   "id": "56641106",
   "metadata": {},
   "outputs": [],
   "source": [
    "# Train the Autoencoder:"
   ]
  },
  {
   "cell_type": "code",
   "execution_count": 23,
   "id": "7b02e1b1",
   "metadata": {},
   "outputs": [
    {
     "name": "stdout",
     "output_type": "stream",
     "text": [
      "Epoch[1/10],Loss:0.1120\n",
      "Epoch[2/10],Loss:0.1125\n",
      "Epoch[3/10],Loss:0.1239\n",
      "Epoch[4/10],Loss:0.1230\n",
      "Epoch[5/10],Loss:0.1124\n",
      "Epoch[6/10],Loss:0.1069\n",
      "Epoch[7/10],Loss:0.0990\n",
      "Epoch[8/10],Loss:0.1162\n",
      "Epoch[9/10],Loss:0.1128\n",
      "Epoch[10/10],Loss:0.1214\n"
     ]
    }
   ],
   "source": [
    "num_epoch=10\n",
    "for k in range(num_epoch):\n",
    "    for data_x in train_loader:\n",
    "        x,_=data_x\n",
    "        X=x.view(x.size(0),-1)# Flatten the image\n",
    "        yp=model(X)\n",
    "        loss_fn=criterion(yp,X)\n",
    "        optimizer.zero_grad()\n",
    "        loss_fn.backward()\n",
    "        optimizer.step()\n",
    "        \n",
    "    print(f\"Epoch[{k+1}/{num_epoch}],Loss:{loss_fn.item():.4f}\")"
   ]
  },
  {
   "cell_type": "code",
   "execution_count": 86,
   "id": "4b9155ac",
   "metadata": {},
   "outputs": [],
   "source": [
    "# Visualize the Results"
   ]
  },
  {
   "cell_type": "code",
   "execution_count": 88,
   "id": "440bcae5",
   "metadata": {},
   "outputs": [
    {
     "data": {
      "image/png": "[encoded data removed]",
      "text/plain": [
       "<Figure size 2000x400 with 20 Axes>"
      ]
     },
     "metadata": {},
     "output_type": "display_data"
    }
   ],
   "source": [
    "def visulaization(model,data_loader):\n",
    "    with th.no_grad():\n",
    "        data_iter=iter(data_loader)\n",
    "        x,_=next(data_iter)\n",
    "        X=x.view(x.size(0),-1)\n",
    "        YP=model(X)\n",
    "        YP=YP.view(YP.size(0),1,28,28)\n",
    "        X=X.view(X.size(0),1,28,28)\n",
    "        fig, axes = plt.subplots(nrows=2, ncols=10, sharex=True, sharey=True, figsize=(20, 4))\n",
    "\n",
    "        \n",
    "        # Plot original images\n",
    "        for i in range(10):\n",
    "            ax = axes[0, i]\n",
    "            ax.imshow(X[i].squeeze().numpy(), cmap='gray')\n",
    "            ax.get_xaxis().set_visible(False)\n",
    "            ax.get_yaxis().set_visible(False)\n",
    "\n",
    "        # Plot reconstructed images\n",
    "        for i in range(10):\n",
    "            ax = axes[1, i]\n",
    "            ax.imshow(YP[i].squeeze().numpy(), cmap='gray')\n",
    "            ax.get_xaxis().set_visible(False)\n",
    "            ax.get_yaxis().set_visible(False)\n",
    "\n",
    "visulaization(model, test_loader)"
   ]
  },
  {
   "cell_type": "raw",
   "id": "3b6e9089",
   "metadata": {},
   "source": [
    "This code provides a complete pipeline for training an autoencoder on the MNIST dataset, which is a form of unsupervised learning. The autoencoder compresses the input data into a lower-dimensional representation and then reconstructs it, learning important features of the dataset in the process.\n",
    "\n",
    "Run the provided code in your environment, and you should be able to see the original and reconstructed images, demonstrating the effectiveness of the autoencoder.\n"
   ]
  },
  {
   "cell_type": "code",
   "execution_count": null,
   "id": "970e2c7a",
   "metadata": {},
   "outputs": [],
   "source": []
  },
  {
   "cell_type": "code",
   "execution_count": null,
   "id": "199783d6",
   "metadata": {},
   "outputs": [],
   "source": []
  }
 ],
 "metadata": {
  "kernelspec": {
   "display_name": "Python 3 (ipykernel)",
   "language": "python",
   "name": "python3"
  },
  "language_info": {
   "codemirror_mode": {
    "name": "ipython",
    "version": 3
   },
   "file_extension": ".py",
   "mimetype": "text/x-python",
   "name": "python",
   "nbconvert_exporter": "python",
   "pygments_lexer": "ipython3",
   "version": "3.11.3"
  }
 },
 "nbformat": 4,
 "nbformat_minor": 5
}
